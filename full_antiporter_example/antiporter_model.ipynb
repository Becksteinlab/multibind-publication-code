{
 "cells": [
  {
   "attachments": {},
   "cell_type": "markdown",
   "id": "1c1c3bc7",
   "metadata": {},
   "source": [
    "Starting with rates, we can build a full working model in equilibrium and non-equilibrium conditions"
   ]
  },
  {
   "cell_type": "code",
   "execution_count": null,
   "id": "ed61006f-3998-4d56-ac8b-73d1bee3945b",
   "metadata": {},
   "outputs": [],
   "source": [
    "from multibind.nonequilibrium import rate_matrix\n",
    "import multibind as mb\n",
    "from pathlib import Path\n",
    "import numpy as np\n",
    "import matplotlib.pyplot as plt\n",
    "import seaborn as sns\n",
    "\n",
    "from equil import run # run the equilibrium model\n",
    "from transport import transport # non-eq model"
   ]
  },
  {
   "cell_type": "code",
   "execution_count": null,
   "id": "fe69f82a",
   "metadata": {},
   "outputs": [],
   "source": [
    "base = \"diffusion\"\n",
    "# base = \"md\"\n",
    "\n",
    "rate_files = {'diffusion' : Path('inputs') / 'diffusion_rates.csv',\n",
    "              'md'        : Path('inputs') / 'md_rates.csv'}\n",
    "target_dir = {'diffusion' : Path('runs') / 'diffusion',\n",
    "              'md'        : Path('runs') / 'md'}\n",
    "\n",
    "outdir = target_dir[base]\n",
    "\n",
    "transport_magnitudes = { 'diffusion' : [-200, 220],\n",
    "                         'md'        : [-200, 220],\n",
    "}[base]"
   ]
  },
  {
   "cell_type": "code",
   "execution_count": null,
   "id": "4a53b031-078a-42f7-a371-04c515c55a05",
   "metadata": {},
   "outputs": [],
   "source": [
    "def dG2pKa(dG : float, pH : float = 0.0) -> float:\n",
    "    '''Calculate the pKa from the free energy difference.\n",
    "    Defaults to standard state (pH = 0).\n",
    "    '''\n",
    "    return pH - dG / np.log(10)"
   ]
  },
  {
   "cell_type": "code",
   "execution_count": null,
   "id": "df053f10-ccdb-4ccc-b071-d3e4bbde8eb3",
   "metadata": {},
   "outputs": [],
   "source": [
    "def build_base_multibind_model(pH : float = 8, Na : float = 0.1, verbose = False):\n",
    "    input_rates = rate_files[base]\n",
    "\n",
    "    c, k, std = rate_matrix(input_rates)\n",
    "\n",
    "    states = c.states.values\n",
    "    free_energies = c.g_mle\n",
    "    g_std_err = c.std_errors\n",
    "\n",
    "    new_graph = c.graph.copy()\n",
    "\n",
    "    for index, data in new_graph.iterrows():\n",
    "        state1, state2, value, variance, ligand, std = data\n",
    "        if verbose:\n",
    "            print(state1, state2, value, variance, ligand, std)\n",
    "\n",
    "        if (state1[-1] == \"H\" and state2[-1] == \"0\") or (state1[-1] == \"A\" and state2[-1] == \"0\"):\n",
    "            # backwards proton reaction\n",
    "            new_graph.at[index, 'state1'] = state2\n",
    "            new_graph.at[index, 'state2'] = state1\n",
    "            new_graph.at[index, 'value'] = -value\n",
    "\n",
    "            value = new_graph.value[index]\n",
    "            state1 = new_graph.state1[index]\n",
    "            state2 = new_graph.state2[index]\n",
    "\n",
    "        if state1[-1] == \"0\" and state2[-1] == \"H\":\n",
    "            new_graph.at[index, 'ligand'] = \"H+\"\n",
    "            new_graph.at[index, 'value'] = dG2pKa(new_graph.value[index], pH)\n",
    "            new_graph.at[index, 'variance'] = new_graph.variance[index] / np.log(10)**2\n",
    "        if state1[-1] == \"0\" and state2[-1] == \"A\":\n",
    "            new_graph.at[index, 'ligand'] = \"Na+\"\n",
    "            new_graph.at[index, 'value'] = new_graph.value[index] + np.log(Na)\n",
    "\n",
    "    c_equil = mb.Multibind()\n",
    "    c_equil.graph = new_graph\n",
    "    c_equil.states = c.states\n",
    "    \n",
    "    return c_equil, k, pH, Na"
   ]
  },
  {
   "attachments": {},
   "cell_type": "markdown",
   "id": "53a9f4da-b8fc-4ba0-8015-d7cddac3a2a0",
   "metadata": {},
   "source": [
    "# Equilibrium"
   ]
  },
  {
   "attachments": {},
   "cell_type": "markdown",
   "id": "a5efcd3f",
   "metadata": {},
   "source": [
    "We first read the rates file in and construct a friendlier graph structure. The rate files do not contain any information of ligand species and thus all of the output free energies are reported as raw Helmholtz free energies."
   ]
  },
  {
   "attachments": {},
   "cell_type": "markdown",
   "id": "c0746e39",
   "metadata": {},
   "source": [
    "Create blank model, populate it with the new graph and states. Build a scanner from this model."
   ]
  },
  {
   "cell_type": "code",
   "execution_count": null,
   "id": "61aea684-deb3-4ade-a923-725321071913",
   "metadata": {},
   "outputs": [],
   "source": [
    "c_equil, _, _, _ = build_base_multibind_model()\n",
    "\n",
    "scanner = mb.multibind.MultibindScanner(statefile=None, graphfile=None)\n",
    "scanner.c = c_equil"
   ]
  },
  {
   "attachments": {},
   "cell_type": "markdown",
   "id": "b49c3da9",
   "metadata": {},
   "source": [
    "Once again, we must provide some metadata since rate files do not have any of this."
   ]
  },
  {
   "cell_type": "code",
   "execution_count": null,
   "id": "678c84f8-d83c-43f1-9b39-f3055fe6c625",
   "metadata": {
    "tags": []
   },
   "outputs": [],
   "source": [
    "sod_bound = {'IF0': 'unbound',\n",
    "             'IFH': 'unbound',\n",
    "             'IFNA': 'bound',\n",
    "             'OF0': 'unbound',\n",
    "             'OFH': 'unbound',\n",
    "             'OFNA': 'bound',\n",
    "            }\n",
    "\n",
    "prot_bound = {'IF0': 'unbound',\n",
    "              'IFH': 'bound',\n",
    "              'IFNA': 'unbound',\n",
    "              'OF0': 'unbound',\n",
    "              'OFH': 'bound',\n",
    "              'OFNA': 'unbound',\n",
    "             }\n",
    "\n",
    "conf = {'IF0': 'inward',\n",
    "        'IFH': 'inward',\n",
    "        'IFNA': 'inward',\n",
    "        'OF0': 'outward',\n",
    "        'OFH': 'outward',\n",
    "        'OFNA': 'outward',\n",
    "       }\n",
    "\n",
    "scanner.c.states['conf'] = list(map(lambda x: conf[x[0]], scanner.c.states.values))\n",
    "scanner.c.states['prot_bound'] = list(map(lambda x: prot_bound[x[0]], scanner.c.states.values))\n",
    "scanner.c.states['sod_bound'] = list(map(lambda x: sod_bound[x[0]], scanner.c.states.values))"
   ]
  },
  {
   "attachments": {},
   "cell_type": "markdown",
   "id": "8be706fd",
   "metadata": {},
   "source": [
    "Run the scanner and output all the images to disk. Takes roughly 17 seconds to run."
   ]
  },
  {
   "cell_type": "code",
   "execution_count": null,
   "id": "df3606a2",
   "metadata": {},
   "outputs": [],
   "source": [
    "run(scanner, basepath=outdir);"
   ]
  },
  {
   "attachments": {},
   "cell_type": "markdown",
   "id": "13ec5717",
   "metadata": {},
   "source": [
    "# Non-equilibrium"
   ]
  },
  {
   "attachments": {},
   "cell_type": "markdown",
   "id": "e57981c1",
   "metadata": {},
   "source": [
    "Here we collect the cycle flux as a function of sodium concentration and pH. 20 second runtime."
   ]
  },
  {
   "cell_type": "code",
   "execution_count": null,
   "id": "86ec8c2b-a16e-4d44-a300-0b46232ddf89",
   "metadata": {},
   "outputs": [],
   "source": [
    "def initialize_structures(voltages=[-0.1, -0.05, 0, 0.05, 0.1], concentrations=[0.001, 0.01, 0.1, 1]):\n",
    "    display_voltages = np.array(voltages) # membrane voltage range\n",
    "    voltages = np.concatenate([np.linspace(-0.1, 0.1, 1001)[1:-1], display_voltages]) # make a continuum with desired values\n",
    "    voltages.sort() # put them in order\n",
    "\n",
    "    fixed = np.array(concentrations) # fixed sodium concentration range\n",
    "    na_out = np.concatenate([np.logspace(-3, 0, 20)[1:-1], fixed]) # make continuum\n",
    "    na_out.sort() # put in order\n",
    "\n",
    "    data = np.zeros((voltages.shape[0], na_out.shape[0])) # empty memory for results\n",
    "    \n",
    "    return voltages, na_out, data\n",
    "\n",
    "\n",
    "def scan_parameters(voltages, sodium_concentrations, data, charge_H = 1, charge_N = 1):\n",
    "    \n",
    "    c_equil, k, pH, Na = build_base_multibind_model()\n",
    "    \n",
    "    for i, v in enumerate(voltages):\n",
    "        for j, na in enumerate(na_out):\n",
    "            # rates are taken from the equilibrium case, as they must follow the same closure conditions\n",
    "            # counter is used if the rates were defined at a particular concentration\n",
    "            flux, drive, connection_labels, pops, Gp = transport(c_equil, k, 10**-pH, Na, charge_H = charge_H, charge_N = charge_N, **{'c_na_out': na, 'voltage': v})\n",
    "            data[i, j] = flux\n",
    "            \n",
    "def make_plot(voltages, display_voltages, na_out, data, label, vxlim = None, vylim = None, ion_xlabel = r'$[$Na$^+]_{out}$ (M)'):\n",
    "    \n",
    "    volt_colors =  [\"#0a50a1\",\n",
    "                    \"#85a8d0\",\n",
    "                    \"#d0cde5\",\n",
    "                    \"#f07386\",\n",
    "                    \"#e1000c\",]\n",
    "    \n",
    "    fig, (ax_na, ax_v) = plt.subplots(nrows=1, ncols=2, sharey=True, figsize=(8, 4))\n",
    "\n",
    "    ax_na.axvline(1-0.075, linestyle='dashed', color='#a1d99b', lw=3)\n",
    "    ax_na.axvline(0.1, linestyle='dashed', color='#41ab5d', lw=3)\n",
    "    ax_na.axvline(0.01, linestyle='dashed', color='#00441b', lw=3)\n",
    "\n",
    "    ax_na.set_xlabel(ion_xlabel)\n",
    "    ax_na.set_ylabel(r'steady state turnover (s$^{-1}$)')\n",
    "    \n",
    "    na_idx001 = np.argwhere(na_out == 0.01)[0][0]\n",
    "    na_idx01 = np.argwhere(na_out == 0.1)[0][0]\n",
    "    na_idx1 = np.argwhere(na_out == 1.0)[0][0]\n",
    "    \n",
    "    for _i, volt in enumerate(display_voltages):\n",
    "        i = np.argwhere(voltages == volt)[0][0]\n",
    "        ax_na.semilogx(na_out, data[i, :], color=volt_colors[_i], label=f'{volt*1000:.0f} mV')\n",
    "    \n",
    "    ax_v.plot(voltages*1e3, data[:, na_idx001], color='#00441b', label=f'10 mM')\n",
    "    ax_v.plot(voltages*1e3, data[:, na_idx01], color='#41ab5d', label=f'100 mM')\n",
    "    ax_v.plot(voltages*1e3, data[:, na_idx1], color='#a1d99b', label=f'1000 mM')\n",
    "\n",
    "    ax_v.axvline(0, color='gray', linestyle='dashed')\n",
    "    ax_v.axhline(0, color='gray', linestyle='dashed')\n",
    "\n",
    "    ax_v.set_xlabel(\"memb. voltage (mV)\")\n",
    "\n",
    "    sns.despine(ax=ax_v, offset=5)\n",
    "    sns.despine(ax=ax_na, offset=5)\n",
    "    \n",
    "    ax_na.set_xlim([0.001, 1])\n",
    "    ax_na.set_ylim(transport_magnitudes)\n",
    "\n",
    "    if not vylim:\n",
    "        vylim = transport_magnitudes\n",
    "    \n",
    "    ax_v.set_ylim(vylim)\n",
    "    \n",
    "    ax_na.legend(loc='best')\n",
    "    ax_v.legend(loc='best')\n",
    "    \n",
    "    outimgdir = outdir / \"img\" / label\n",
    "    outimgdir.mkdir(exist_ok=True, parents=True)\n",
    "\n",
    "    plt.tight_layout()\n",
    "    plt.savefig(outimgdir / \"transport.pdf\")\n",
    "    \n",
    "    return fig, (ax_na, ax_v)"
   ]
  },
  {
   "attachments": {},
   "cell_type": "markdown",
   "id": "d4bd79d1-d65c-489f-883f-fc59d2ed1ff4",
   "metadata": {},
   "source": [
    "## Electoneutral"
   ]
  },
  {
   "cell_type": "code",
   "execution_count": 1,
   "id": "c710871b",
   "metadata": {
    "tags": []
   },
   "outputs": [
    {
     "ename": "NameError",
     "evalue": "name 'np' is not defined",
     "output_type": "error",
     "traceback": [
      "\u001b[0;31m---------------------------------------------------------------------------\u001b[0m",
      "\u001b[0;31mNameError\u001b[0m                                 Traceback (most recent call last)",
      "Cell \u001b[0;32mIn[1], line 1\u001b[0m\n\u001b[0;32m----> 1\u001b[0m display_voltages \u001b[39m=\u001b[39m np\u001b[39m.\u001b[39marray([\u001b[39m-\u001b[39m\u001b[39m0.1\u001b[39m, \u001b[39m-\u001b[39m\u001b[39m0.05\u001b[39m, \u001b[39m0\u001b[39m, \u001b[39m0.05\u001b[39m, \u001b[39m0.1\u001b[39m]) \u001b[39m# membrane voltage range\u001b[39;00m\n\u001b[1;32m      2\u001b[0m fixed \u001b[39m=\u001b[39m np\u001b[39m.\u001b[39marray([\u001b[39m0.001\u001b[39m, \u001b[39m0.01\u001b[39m, \u001b[39m0.1\u001b[39m, \u001b[39m1\u001b[39m]) \u001b[39m# fixed sodium concentration range\u001b[39;00m\n\u001b[1;32m      3\u001b[0m voltages, na_out, data \u001b[39m=\u001b[39m initialize_structures()\n",
      "\u001b[0;31mNameError\u001b[0m: name 'np' is not defined"
     ]
    }
   ],
   "source": [
    "display_voltages = np.array([-0.1, -0.05, 0, 0.05, 0.1]) # membrane voltage range\n",
    "fixed = np.array([0.001, 0.01, 0.1, 1]) # fixed sodium concentration range\n",
    "voltages, na_out, data = initialize_structures()\n",
    "\n",
    "# mutate data\n",
    "scan_parameters(voltages, na_out, data)\n",
    "\n",
    "make_plot(voltages, display_voltages, na_out, data, \"electroneutral\")"
   ]
  },
  {
   "attachments": {},
   "cell_type": "markdown",
   "id": "56d52900-e145-4cb0-b412-e7739d360380",
   "metadata": {},
   "source": [
    "## Electrogenic"
   ]
  },
  {
   "attachments": {},
   "cell_type": "markdown",
   "id": "65740f1a-38fc-4bdc-a3ea-ecbff0b34311",
   "metadata": {},
   "source": [
    "We first calculate electrogenic transport treating the sodium as a +2 and the proton as a +1"
   ]
  },
  {
   "cell_type": "code",
   "execution_count": 2,
   "id": "6c836412",
   "metadata": {},
   "outputs": [
    {
     "ename": "NameError",
     "evalue": "name 'np' is not defined",
     "output_type": "error",
     "traceback": [
      "\u001b[0;31m---------------------------------------------------------------------------\u001b[0m",
      "\u001b[0;31mNameError\u001b[0m                                 Traceback (most recent call last)",
      "Cell \u001b[0;32mIn[2], line 1\u001b[0m\n\u001b[0;32m----> 1\u001b[0m display_voltages \u001b[39m=\u001b[39m np\u001b[39m.\u001b[39marray([\u001b[39m-\u001b[39m\u001b[39m0.1\u001b[39m, \u001b[39m-\u001b[39m\u001b[39m0.05\u001b[39m, \u001b[39m0\u001b[39m, \u001b[39m0.05\u001b[39m, \u001b[39m0.1\u001b[39m]) \u001b[39m# membrane voltage range\u001b[39;00m\n\u001b[1;32m      2\u001b[0m fixed \u001b[39m=\u001b[39m np\u001b[39m.\u001b[39marray([\u001b[39m0.001\u001b[39m, \u001b[39m0.01\u001b[39m, \u001b[39m0.1\u001b[39m, \u001b[39m1\u001b[39m]) \u001b[39m# fixed sodium concentration range\u001b[39;00m\n\u001b[1;32m      3\u001b[0m voltages, na_out, data \u001b[39m=\u001b[39m initialize_structures()\n",
      "\u001b[0;31mNameError\u001b[0m: name 'np' is not defined"
     ]
    }
   ],
   "source": [
    "display_voltages = np.array([-0.1, -0.05, 0, 0.05, 0.1]) # membrane voltage range\n",
    "fixed = np.array([0.001, 0.01, 0.1, 1]) # fixed sodium concentration range\n",
    "voltages, na_out, data = initialize_structures()\n",
    "\n",
    "# mutate data\n",
    "scan_parameters(voltages, na_out, data, charge_H = 1, charge_N = 2)\n",
    "\n",
    "ion_label = r'$[$M$^{2\\!\\!+}]_{out}$ (M)'\n",
    "\n",
    "fig, (ax_na, ax_v) = make_plot(voltages, display_voltages, na_out, data, \"electrogenic_2N_1H\", ion_xlabel=ion_label)"
   ]
  },
  {
   "cell_type": "code",
   "execution_count": null,
   "id": "5bf46cd1",
   "metadata": {},
   "outputs": [],
   "source": [
    "h_in = 10**(-7.4) # pH 7.4\n",
    "h_out = 10**(-7) # pH 7\n",
    "na_in = 0.010 # 10 mM\n",
    "na_out = 0.010 # 10 mM\n",
    "e = 1.602176634e-19 # C\n",
    "q_na = 2*e\n",
    "q_h = 1*e\n",
    "T = 310 # K\n",
    "k_B = 1.380649e-23 # J/K\n",
    "kT = k_B * T\n",
    "\n",
    "\n",
    "\n",
    "psi = np.linspace(-0.100, 0.100)\n",
    "drive = kT*np.log(h_in/h_out) + kT*np.log(na_out/na_in) - psi * q_na + psi * q_h\n",
    "\n",
    "ax_v.plot(psi*1000, 100*drive/e)\n",
    "ax_v.axvline(-kT/(q_h - q_na) * (np.log(h_in/h_out) + np.log(na_out/na_in))*1000)\n",
    "fig"
   ]
  },
  {
   "attachments": {},
   "cell_type": "markdown",
   "id": "41f9e6ce-e09a-4e95-94b8-1e243f151ee6",
   "metadata": {},
   "source": [
    "To see the effects of electrogenicity, we also calculate the same curve with the charges reversed ($q_H = +2$, $q_{Na} = +1$)"
   ]
  },
  {
   "cell_type": "code",
   "execution_count": null,
   "id": "5b76ddf6",
   "metadata": {
    "scrolled": true,
    "tags": []
   },
   "outputs": [],
   "source": [
    "display_voltages = np.array([-0.1, -0.05, 0, 0.05, 0.1]) # membrane voltage range\n",
    "fixed = np.array([0.001, 0.01, 0.1, 1]) # fixed sodium concentration range\n",
    "voltages, na_out, data = initialize_structures()\n",
    "\n",
    "# mutate data\n",
    "scan_parameters(voltages, na_out, data, charge_H = 2, charge_N = 1)\n",
    "\n",
    "fig, (ax_na, ax_v) = make_plot(voltages, display_voltages, na_out, data, \"electrogenic_1N_2H\")"
   ]
  },
  {
   "cell_type": "code",
   "execution_count": null,
   "id": "7eceebb5",
   "metadata": {},
   "outputs": [],
   "source": [
    "h_in = 10**(-7.4) # pH 7.4\n",
    "h_out = 10**(-7) # pH 7\n",
    "na_in = 0.010 # 10 mM\n",
    "na_out = 0.010 # 10 mM\n",
    "e = 1.602176634e-19 # C\n",
    "q_na = 1*e\n",
    "q_h = 2*e\n",
    "T = 310 # K\n",
    "k_B = 1.380649e-23 # J/K\n",
    "kT = k_B * T\n",
    "\n",
    "\n",
    "\n",
    "psi = np.linspace(-0.100, 0.100)\n",
    "drive = kT*np.log(h_in/h_out) + kT*np.log(na_out/na_in) - psi * q_na + psi * q_h\n",
    "\n",
    "ax_v.plot(psi*1000, 100*drive/e)\n",
    "ax_v.axvline(-kT/(q_h - q_na) * (np.log(h_in/h_out) + np.log(na_out/na_in))*1000)\n",
    "fig"
   ]
  },
  {
   "cell_type": "code",
   "execution_count": null,
   "id": "e2eec37c",
   "metadata": {
    "scrolled": true,
    "tags": []
   },
   "outputs": [],
   "source": [
    "display_voltages = np.array([-0.1, -0.05, 0, 0.05, 0.1]) # membrane voltage range\n",
    "fixed = np.array([0.001, 0.01, 0.1, 1]) # fixed sodium concentration range\n",
    "voltages, na_out, data = initialize_structures()\n",
    "\n",
    "# mutate data\n",
    "scan_parameters(voltages, na_out, data, charge_H = 0, charge_N = 1)\n",
    "\n",
    "make_plot(voltages, display_voltages, na_out, data, \"electrogenic_1N_0H\", vylim=[-300, 300])"
   ]
  },
  {
   "cell_type": "code",
   "execution_count": null,
   "id": "691b5620",
   "metadata": {},
   "outputs": [],
   "source": []
  }
 ],
 "metadata": {
  "kernelspec": {
   "display_name": "Python 3 (ipykernel)",
   "language": "python",
   "name": "python3"
  },
  "language_info": {
   "codemirror_mode": {
    "name": "ipython",
    "version": 3
   },
   "file_extension": ".py",
   "mimetype": "text/x-python",
   "name": "python",
   "nbconvert_exporter": "python",
   "pygments_lexer": "ipython3",
   "version": "3.10.11"
  },
  "vscode": {
   "interpreter": {
    "hash": "4768d7f38deef1c5dc5d75e1aa627507327ba5170ac06a2a39da7c98c7bd1039"
   }
  }
 },
 "nbformat": 4,
 "nbformat_minor": 5
}
