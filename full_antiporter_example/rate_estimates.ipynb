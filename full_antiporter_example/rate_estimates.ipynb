{
 "cells": [
  {
   "cell_type": "code",
   "execution_count": 9,
   "metadata": {},
   "outputs": [],
   "source": [
    "import multibind as mb\n",
    "import numpy as np\n",
    "import pint\n",
    "\n",
    "ureg = pint.UnitRegistry()\n",
    "\n",
    "# Constants\n",
    "NA = 6.022e23 / ureg.mole\n",
    "c0 = 1 * ureg.molar"
   ]
  },
  {
   "cell_type": "markdown",
   "metadata": {},
   "source": [
    "### Sodium diffusion limited binding"
   ]
  },
  {
   "cell_type": "code",
   "execution_count": 13,
   "metadata": {},
   "outputs": [
    {
     "name": "stdout",
     "output_type": "stream",
     "text": [
      "k_on: 320370400.00000006 / second -> 3203704000.0000005 / second\n",
      "k_off: 395368.4829917114 / second\n"
     ]
    }
   ],
   "source": [
    "deltaG0 = ureg('-9') # standard state binding free energy\n",
    "concentration = 0.1 * ureg.molar\n",
    "deltaG = deltaG0 - np.log(concentration / c0)\n",
    "\n",
    "D = 1.33e-5 * ureg(\"cm^2 / s\")\n",
    "R = 10 * ureg(\"angstrom\")\n",
    "kon = 4 * R * D * concentration * NA\n",
    "kon.ito_base_units()\n",
    "\n",
    "koff = kon * np.exp(deltaG)\n",
    "\n",
    "print(f\"k_on: {kon} -> {kon / concentration * ureg.molar}\")\n",
    "print(f\"k_off: {koff}\")"
   ]
  },
  {
   "cell_type": "markdown",
   "metadata": {},
   "source": [
    "### Proton diffusion limited binding"
   ]
  },
  {
   "cell_type": "code",
   "execution_count": 14,
   "metadata": {},
   "outputs": [
    {
     "name": "stdout",
     "output_type": "stream",
     "text": [
      "k_on: 224.0184 / second -> 22401840000.0 / second\n",
      "k_off: 22.401839999999996 / second\n"
     ]
    }
   ],
   "source": [
    "pKa = ureg('9') # standard state proton binding free energy\n",
    "pH = ureg('8')\n",
    "\n",
    "deltaG = np.log(10) * (pH - pKa)\n",
    "\n",
    "D = 9.3e11 * ureg(\"angstrom^2 / s\")\n",
    "R = 10 * ureg(\"angstrom\")\n",
    "concentration = 10**-pH * ureg.molar\n",
    "\n",
    "kon = 4 * R * D * concentration * NA\n",
    "kon.ito_base_units()\n",
    "\n",
    "koff = kon * np.exp(deltaG)\n",
    "\n",
    "print(f\"k_on: {kon} -> {kon / concentration * ureg.molar}\")\n",
    "print(f\"k_off: {koff}\")"
   ]
  },
  {
   "cell_type": "code",
   "execution_count": null,
   "metadata": {},
   "outputs": [],
   "source": []
  }
 ],
 "metadata": {
  "kernelspec": {
   "display_name": "Python 3.10.4 ('.venv': poetry)",
   "language": "python",
   "name": "python3"
  },
  "language_info": {
   "codemirror_mode": {
    "name": "ipython",
    "version": 3
   },
   "file_extension": ".py",
   "mimetype": "text/x-python",
   "name": "python",
   "nbconvert_exporter": "python",
   "pygments_lexer": "ipython3",
   "version": "3.10.4"
  },
  "orig_nbformat": 4,
  "vscode": {
   "interpreter": {
    "hash": "4768d7f38deef1c5dc5d75e1aa627507327ba5170ac06a2a39da7c98c7bd1039"
   }
  }
 },
 "nbformat": 4,
 "nbformat_minor": 2
}
