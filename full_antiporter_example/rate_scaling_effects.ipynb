{
 "cells": [
  {
   "cell_type": "code",
   "execution_count": 116,
   "id": "45f00fc9",
   "metadata": {},
   "outputs": [],
   "source": [
    "from multibind.nonequilibrium import rate_matrix\n",
    "import multibind as mb\n",
    "import numpy as np\n",
    "from equil import run\n",
    "\n",
    "np.set_printoptions(precision=3)"
   ]
  },
  {
   "cell_type": "code",
   "execution_count": 117,
   "id": "0d293879",
   "metadata": {},
   "outputs": [],
   "source": [
    "def build_base_multibind_model(input_rates : str, pH : float = 8, Na : float = 0.1, verbose : bool = False):\n",
    "\n",
    "    c, k, std = rate_matrix(input_rates)\n",
    "\n",
    "    states = c.states.values\n",
    "    free_energies = c.g_mle\n",
    "    g_std_err = c.std_errors\n",
    "\n",
    "    new_graph = c.graph.copy()\n",
    "\n",
    "    for index, data in new_graph.iterrows():\n",
    "        state1, state2, value, variance, ligand, std = data\n",
    "        if verbose:\n",
    "            print(state1, state2, value, variance, ligand, std)\n",
    "\n",
    "        if (state1[-1] == \"H\" and state2[-1] == \"0\") or (state1[-1] == \"A\" and state2[-1] == \"0\"):\n",
    "            # backwards proton reaction\n",
    "            new_graph.at[index, 'state1'] = state2\n",
    "            new_graph.at[index, 'state2'] = state1\n",
    "            new_graph.at[index, 'value'] = -value\n",
    "\n",
    "            value = new_graph.value[index]\n",
    "            state1 = new_graph.state1[index]\n",
    "            state2 = new_graph.state2[index]\n",
    "\n",
    "        if state1[-1] == \"0\" and state2[-1] == \"H\":\n",
    "            new_graph.at[index, 'ligand'] = \"H+\"\n",
    "            new_graph.at[index, 'value'] = dG2pKa(new_graph.value[index], pH)\n",
    "            new_graph.at[index, 'variance'] = new_graph.variance[index] / np.log(10)**2\n",
    "        if state1[-1] == \"0\" and state2[-1] == \"A\":\n",
    "            new_graph.at[index, 'ligand'] = \"Na+\"\n",
    "            new_graph.at[index, 'value'] = new_graph.value[index] + np.log(Na)\n",
    "\n",
    "    c_equil = mb.Multibind()\n",
    "    c_equil.graph = new_graph\n",
    "    c_equil.states = c.states\n",
    "    \n",
    "    return c_equil, k, pH, Na\n",
    "\n",
    "\n",
    "def dG2pKa(dG : float, pH : float = 0.0) -> float:\n",
    "    '''Calculate the pKa from the free energy difference.\n",
    "    Defaults to standard state (pH = 0).\n",
    "    '''\n",
    "    return pH - dG / np.log(10)"
   ]
  },
  {
   "cell_type": "code",
   "execution_count": 118,
   "id": "4d762b05",
   "metadata": {},
   "outputs": [],
   "source": [
    "def report_results(input_rates, pH, Na, title=None):\n",
    "    if title:\n",
    "        print(f\"========== {title} ==========\")\n",
    "    c, k, _, _ = build_base_multibind_model(input_rates, pH=pH, Na=Na)\n",
    "    c.concentrations = {\"Na+\": 0.100}\n",
    "    c.build_cycle(pH=8)\n",
    "    c.MLE()\n",
    "    scanner = mb.multibind.MultibindScanner(statefile=None, graphfile=None)\n",
    "    scanner.c = c\n",
    "    sod_bound = {'IF0': 'unbound',\n",
    "             'IFH': 'unbound',\n",
    "             'IFNA': 'bound',\n",
    "             'OF0': 'unbound',\n",
    "             'OFH': 'unbound',\n",
    "             'OFNA': 'bound',\n",
    "            }\n",
    "\n",
    "    prot_bound = {'IF0': 'unbound',\n",
    "                  'IFH': 'bound',\n",
    "                  'IFNA': 'unbound',\n",
    "                  'OF0': 'unbound',\n",
    "                  'OFH': 'bound',\n",
    "                  'OFNA': 'unbound',\n",
    "                 }\n",
    "\n",
    "    conf = {'IF0': 'inward',\n",
    "            'IFH': 'inward',\n",
    "            'IFNA': 'inward',\n",
    "            'OF0': 'outward',\n",
    "            'OFH': 'outward',\n",
    "            'OFNA': 'outward',\n",
    "           }\n",
    "\n",
    "    scanner.c.states['conf'] = list(map(lambda x: conf[x[0]], scanner.c.states.values))\n",
    "    scanner.c.states['prot_bound'] = list(map(lambda x: prot_bound[x[0]], scanner.c.states.values))\n",
    "    scanner.c.states['sod_bound'] = list(map(lambda x: sod_bound[x[0]], scanner.c.states.values))\n",
    "    run(scanner)\n",
    "    return c.graph"
   ]
  },
  {
   "cell_type": "code",
   "execution_count": 119,
   "id": "53a6b038",
   "metadata": {},
   "outputs": [
    {
     "name": "stdout",
     "output_type": "stream",
     "text": [
      "========== Realistic ==========\n",
      "IFH (0.0) --> IF0 (-3.584631285478887) => -3.584631285478887 ± 0.09519369164929858\n",
      "IF0 (-3.584631285478887) --> IFNA (-4.995919960795005) => -1.411288675316118 ± 0.09360123218286136\n",
      "IFNA (-4.995919960795005) --> OFNA (-4.523709030956624) => 0.472210929838381 ± 0.06624678370582313\n",
      "OFNA (-4.523709030956624) --> OF0 (-3.883497606097211) => 0.6402114248594133 ± 0.06359939942070127\n",
      "OF0 (-3.883497606097211) --> OFH (-0.4720897659961597) => 3.411407840101051 ± 0.06600233311482191\n",
      "OFH (-0.4720897659961597) --> IFH (0.0) => 0.4720897659961597 ± 0.07071569122170802\n",
      "-1.1102230246251565e-16\n"
     ]
    },
    {
     "data": {
      "text/html": [
       "<div>\n",
       "<style scoped>\n",
       "    .dataframe tbody tr th:only-of-type {\n",
       "        vertical-align: middle;\n",
       "    }\n",
       "\n",
       "    .dataframe tbody tr th {\n",
       "        vertical-align: top;\n",
       "    }\n",
       "\n",
       "    .dataframe thead th {\n",
       "        text-align: right;\n",
       "    }\n",
       "</style>\n",
       "<table border=\"1\" class=\"dataframe\">\n",
       "  <thead>\n",
       "    <tr style=\"text-align: right;\">\n",
       "      <th></th>\n",
       "      <th>state1</th>\n",
       "      <th>state2</th>\n",
       "      <th>value</th>\n",
       "      <th>variance</th>\n",
       "      <th>ligand</th>\n",
       "      <th>standard_state</th>\n",
       "    </tr>\n",
       "  </thead>\n",
       "  <tbody>\n",
       "    <tr>\n",
       "      <th>0</th>\n",
       "      <td>IF0</td>\n",
       "      <td>IFH</td>\n",
       "      <td>6.397940</td>\n",
       "      <td>0.003419</td>\n",
       "      <td>H+</td>\n",
       "      <td>1</td>\n",
       "    </tr>\n",
       "    <tr>\n",
       "      <th>1</th>\n",
       "      <td>IF0</td>\n",
       "      <td>IFNA</td>\n",
       "      <td>-3.822411</td>\n",
       "      <td>0.018447</td>\n",
       "      <td>Na+</td>\n",
       "      <td>1</td>\n",
       "    </tr>\n",
       "    <tr>\n",
       "      <th>2</th>\n",
       "      <td>IFNA</td>\n",
       "      <td>OFNA</td>\n",
       "      <td>0.470004</td>\n",
       "      <td>0.000556</td>\n",
       "      <td>helm</td>\n",
       "      <td>1</td>\n",
       "    </tr>\n",
       "    <tr>\n",
       "      <th>3</th>\n",
       "      <td>OF0</td>\n",
       "      <td>OFNA</td>\n",
       "      <td>-2.935108</td>\n",
       "      <td>0.003488</td>\n",
       "      <td>Na+</td>\n",
       "      <td>1</td>\n",
       "    </tr>\n",
       "    <tr>\n",
       "      <th>4</th>\n",
       "      <td>OF0</td>\n",
       "      <td>OFH</td>\n",
       "      <td>6.522879</td>\n",
       "      <td>0.001113</td>\n",
       "      <td>H+</td>\n",
       "      <td>1</td>\n",
       "    </tr>\n",
       "    <tr>\n",
       "      <th>5</th>\n",
       "      <td>OFH</td>\n",
       "      <td>IFH</td>\n",
       "      <td>0.470004</td>\n",
       "      <td>0.000556</td>\n",
       "      <td>helm</td>\n",
       "      <td>1</td>\n",
       "    </tr>\n",
       "  </tbody>\n",
       "</table>\n",
       "</div>"
      ],
      "text/plain": [
       "  state1 state2     value  variance ligand  standard_state\n",
       "0    IF0    IFH  6.397940  0.003419     H+               1\n",
       "1    IF0   IFNA -3.822411  0.018447    Na+               1\n",
       "2   IFNA   OFNA  0.470004  0.000556   helm               1\n",
       "3    OF0   OFNA -2.935108  0.003488    Na+               1\n",
       "4    OF0    OFH  6.522879  0.001113     H+               1\n",
       "5    OFH    IFH  0.470004  0.000556   helm               1"
      ]
     },
     "execution_count": 119,
     "metadata": {},
     "output_type": "execute_result"
    },
    {
     "data": {
      "text/plain": [
       "<Figure size 300x200 with 0 Axes>"
      ]
     },
     "metadata": {},
     "output_type": "display_data"
    },
    {
     "data": {
      "text/plain": [
       "<Figure size 300x200 with 0 Axes>"
      ]
     },
     "metadata": {},
     "output_type": "display_data"
    },
    {
     "data": {
      "text/plain": [
       "<Figure size 300x200 with 0 Axes>"
      ]
     },
     "metadata": {},
     "output_type": "display_data"
    }
   ],
   "source": [
    "report_results(\"inputs/diffusion_rates.csv\", pH=8, Na=0.1, title=\"Realistic\")"
   ]
  },
  {
   "cell_type": "code",
   "execution_count": 120,
   "id": "484229d7",
   "metadata": {},
   "outputs": [
    {
     "name": "stdout",
     "output_type": "stream",
     "text": [
      "========== STD STATE ==========\n",
      "IFH (0.0) --> IF0 (-3.666425192056425) => -3.666425192056425 ± 0.05096349906596548\n",
      "IF0 (-3.666425192056425) --> IFNA (-5.009601361096364) => -1.3431761690399395 ± 0.0593921421755263\n",
      "IFNA (-5.009601361096364) --> OFNA (-4.535045106035219) => 0.4745562550611453 ± 0.05533607405298931\n",
      "OFNA (-4.535045106035219) --> OF0 (-3.8778569619085586) => 0.6571881441266605 ± 0.044790886513047024\n",
      "OF0 (-3.8778569619085586) --> OFH (-0.4745588120478971) => 3.4032981498606616 ± 0.0341717537142171\n",
      "OFH (-0.4745588120478971) --> IFH (0.0) => 0.4745588120478971 ± 0.035964121200539635\n",
      "1.6653345369377348e-16\n"
     ]
    },
    {
     "data": {
      "text/html": [
       "<div>\n",
       "<style scoped>\n",
       "    .dataframe tbody tr th:only-of-type {\n",
       "        vertical-align: middle;\n",
       "    }\n",
       "\n",
       "    .dataframe tbody tr th {\n",
       "        vertical-align: top;\n",
       "    }\n",
       "\n",
       "    .dataframe thead th {\n",
       "        text-align: right;\n",
       "    }\n",
       "</style>\n",
       "<table border=\"1\" class=\"dataframe\">\n",
       "  <thead>\n",
       "    <tr style=\"text-align: right;\">\n",
       "      <th></th>\n",
       "      <th>state1</th>\n",
       "      <th>state2</th>\n",
       "      <th>value</th>\n",
       "      <th>variance</th>\n",
       "      <th>ligand</th>\n",
       "      <th>standard_state</th>\n",
       "    </tr>\n",
       "  </thead>\n",
       "  <tbody>\n",
       "    <tr>\n",
       "      <th>0</th>\n",
       "      <td>IF0</td>\n",
       "      <td>IFH</td>\n",
       "      <td>6.397940</td>\n",
       "      <td>0.000472</td>\n",
       "      <td>H+</td>\n",
       "      <td>1</td>\n",
       "    </tr>\n",
       "    <tr>\n",
       "      <th>1</th>\n",
       "      <td>IF0</td>\n",
       "      <td>IFNA</td>\n",
       "      <td>-3.822411</td>\n",
       "      <td>0.018419</td>\n",
       "      <td>Na+</td>\n",
       "      <td>1</td>\n",
       "    </tr>\n",
       "    <tr>\n",
       "      <th>2</th>\n",
       "      <td>IFNA</td>\n",
       "      <td>OFNA</td>\n",
       "      <td>0.470004</td>\n",
       "      <td>0.000556</td>\n",
       "      <td>helm</td>\n",
       "      <td>1</td>\n",
       "    </tr>\n",
       "    <tr>\n",
       "      <th>3</th>\n",
       "      <td>OF0</td>\n",
       "      <td>OFNA</td>\n",
       "      <td>-2.935108</td>\n",
       "      <td>0.003461</td>\n",
       "      <td>Na+</td>\n",
       "      <td>1</td>\n",
       "    </tr>\n",
       "    <tr>\n",
       "      <th>4</th>\n",
       "      <td>OF0</td>\n",
       "      <td>OFH</td>\n",
       "      <td>6.522879</td>\n",
       "      <td>0.000052</td>\n",
       "      <td>H+</td>\n",
       "      <td>1</td>\n",
       "    </tr>\n",
       "    <tr>\n",
       "      <th>5</th>\n",
       "      <td>OFH</td>\n",
       "      <td>IFH</td>\n",
       "      <td>0.470004</td>\n",
       "      <td>0.000556</td>\n",
       "      <td>helm</td>\n",
       "      <td>1</td>\n",
       "    </tr>\n",
       "  </tbody>\n",
       "</table>\n",
       "</div>"
      ],
      "text/plain": [
       "  state1 state2     value  variance ligand  standard_state\n",
       "0    IF0    IFH  6.397940  0.000472     H+               1\n",
       "1    IF0   IFNA -3.822411  0.018419    Na+               1\n",
       "2   IFNA   OFNA  0.470004  0.000556   helm               1\n",
       "3    OF0   OFNA -2.935108  0.003461    Na+               1\n",
       "4    OF0    OFH  6.522879  0.000052     H+               1\n",
       "5    OFH    IFH  0.470004  0.000556   helm               1"
      ]
     },
     "execution_count": 120,
     "metadata": {},
     "output_type": "execute_result"
    },
    {
     "data": {
      "text/plain": [
       "<Figure size 300x200 with 0 Axes>"
      ]
     },
     "metadata": {},
     "output_type": "display_data"
    },
    {
     "data": {
      "text/plain": [
       "<Figure size 300x200 with 0 Axes>"
      ]
     },
     "metadata": {},
     "output_type": "display_data"
    },
    {
     "data": {
      "text/plain": [
       "<Figure size 300x200 with 0 Axes>"
      ]
     },
     "metadata": {},
     "output_type": "display_data"
    }
   ],
   "source": [
    "report_results(\"inputs/diffusion_rates_scaled.csv\", pH=0, Na=1, title=\"STD STATE\")"
   ]
  }
 ],
 "metadata": {
  "kernelspec": {
   "display_name": "Python 3 (ipykernel)",
   "language": "python",
   "name": "python3"
  },
  "language_info": {
   "codemirror_mode": {
    "name": "ipython",
    "version": 3
   },
   "file_extension": ".py",
   "mimetype": "text/x-python",
   "name": "python",
   "nbconvert_exporter": "python",
   "pygments_lexer": "ipython3",
   "version": "3.9.2"
  }
 },
 "nbformat": 4,
 "nbformat_minor": 5
}
