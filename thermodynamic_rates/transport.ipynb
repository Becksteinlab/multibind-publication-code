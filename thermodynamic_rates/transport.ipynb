{
 "cells": [
  {
   "cell_type": "code",
   "execution_count": 2,
   "id": "7cc8ae4e-9682-4e57-bdc2-13f8216298ce",
   "metadata": {},
   "outputs": [],
   "source": [
    "from multibind.nonequilibrium import rate_matrix\n",
    "import numpy as np"
   ]
  },
  {
   "cell_type": "code",
   "execution_count": 5,
   "id": "c3ed17f9-09a8-4648-9d3d-ae24101ff80b",
   "metadata": {},
   "outputs": [],
   "source": [
    "c, rates, std = rate_matrix(\"inputs/rates_transport.csv\")"
   ]
  },
  {
   "cell_type": "code",
   "execution_count": null,
   "id": "94c994ae-bc60-42bf-8985-28bded1cda36",
   "metadata": {},
   "outputs": [],
   "source": [
    "c0 = 1\n",
    "c_h_in = "
   ]
  }
 ],
 "metadata": {
  "kernelspec": {
   "display_name": "Python 3 (ipykernel)",
   "language": "python",
   "name": "python3"
  },
  "language_info": {
   "codemirror_mode": {
    "name": "ipython",
    "version": 3
   },
   "file_extension": ".py",
   "mimetype": "text/x-python",
   "name": "python",
   "nbconvert_exporter": "python",
   "pygments_lexer": "ipython3",
   "version": "3.10.4"
  }
 },
 "nbformat": 4,
 "nbformat_minor": 5
}
