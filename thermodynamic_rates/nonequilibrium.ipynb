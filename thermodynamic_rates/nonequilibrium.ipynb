{
 "cells": [
  {
   "cell_type": "code",
   "execution_count": 20,
   "id": "91e30b97-2806-44d0-982c-c80e187aba55",
   "metadata": {},
   "outputs": [],
   "source": [
    "import matplotlib.pyplot as plt\n",
    "from mpl_toolkits.axisartist.axislines import AxesZero\n",
    "from matplotlib.patches import Ellipse\n",
    "import seaborn as sns\n",
    "from pathlib import Path"
   ]
  },
  {
   "cell_type": "code",
   "execution_count": 21,
   "id": "cb99205f-5109-4f41-81e8-d2bdbc713518",
   "metadata": {},
   "outputs": [],
   "source": [
    "from multibind.nonequilibrium import rate_matrix\n",
    "import multibind as mb"
   ]
  },
  {
   "cell_type": "code",
   "execution_count": 22,
   "id": "f956bb49-3fd2-4dfc-abc3-2961e5871fed",
   "metadata": {},
   "outputs": [],
   "source": [
    "import numpy as np"
   ]
  },
  {
   "cell_type": "markdown",
   "id": "236d3d76-386e-4b41-9989-ae5f628f02e0",
   "metadata": {},
   "source": [
    "# Solve for the rates"
   ]
  },
  {
   "cell_type": "code",
   "execution_count": 23,
   "id": "4d5b0820-9508-4178-bf50-bccea35721ba",
   "metadata": {},
   "outputs": [],
   "source": [
    "input_rates = Path('inputs/rates.csv')\n",
    "assert input_rates.exists()\n",
    "\n",
    "c, k, std = rate_matrix(input_rates)\n",
    "\n",
    "states = c.states.values\n",
    "free_energies = c.g_mle\n",
    "\n",
    "grouped = np.vstack([states.flatten(), free_energies])"
   ]
  },
  {
   "cell_type": "code",
   "execution_count": 24,
   "id": "966b14cb-95e7-487b-bef1-a8a999021132",
   "metadata": {},
   "outputs": [
    {
     "name": "stdout",
     "output_type": "stream",
     "text": [
      "ifh 0.0\n",
      "if0 -3.550057819332115\n",
      "ifn -4.880139363544365\n",
      "ofn -4.377414269911992\n",
      "of0 -3.727560919797326\n",
      "ofh -0.5025464485910369\n"
     ]
    }
   ],
   "source": [
    "for i, j in zip(states.flatten(), free_energies):\n",
    "    print(i, j)"
   ]
  },
  {
   "cell_type": "code",
   "execution_count": 25,
   "id": "a172d906-2ddc-447e-9c4f-0d4f178e82b0",
   "metadata": {},
   "outputs": [
    {
     "name": "stdout",
     "output_type": "stream",
     "text": [
      "                 ifh       if0       ifn       ofn       of0       ofh\n",
      "       ifh      0.00     -3.55     -4.88     -4.38     -3.73     -0.50\n",
      "       if0      3.55      0.00     -1.33     -0.83     -0.18      3.05\n",
      "       ifn      4.88      1.33      0.00      0.50      1.15      4.38\n",
      "       ofn      4.38      0.83     -0.50      0.00      0.65      3.87\n",
      "       of0      3.73      0.18     -1.15     -0.65      0.00      3.23\n",
      "       ofh      0.50     -3.05     -4.38     -3.87     -3.23      0.00\n"
     ]
    }
   ],
   "source": [
    "for i in range(len(states)):\n",
    "    state_i = states[i][0]\n",
    "    if i == 0:\n",
    "        print(' '*10, end='')\n",
    "        for l in states.flatten():\n",
    "            print(f\"{l:>10}\", end='') \n",
    "        print('')\n",
    "    for j in range(len(states)):\n",
    "        state_j = states[j][0]\n",
    "        if j == 0:\n",
    "            print(f'{state_i:>10}', end='')\n",
    "        dg = free_energies[j] - free_energies[i]\n",
    "        print(f\"{dg:10.2f}\", end='')\n",
    "    print()"
   ]
  },
  {
   "cell_type": "code",
   "execution_count": 26,
   "id": "ca3a5338-4585-4e80-a23c-cf5a8acf528c",
   "metadata": {},
   "outputs": [
    {
     "name": "stdout",
     "output_type": "stream",
     "text": [
      "                 ifh       if0       ifn       ofn       of0       ofh\n",
      "       ifh    0.0000 6961.3862    0.0000    0.0000    0.0000 9905.5281\n",
      "       if0  199.9517    0.0000 2070.9013    0.0000    0.0000    0.0000\n",
      "       ifn    0.0000  547.6616    0.0000 5792.4753    0.0000    0.0000\n",
      "       ofn    0.0000    0.0000 9576.2379    0.0000  114.6841    0.0000\n",
      "       of0    0.0000    0.0000    0.0000  219.6498    0.0000  292.8158\n",
      "       ofh 5992.7269    0.0000    0.0000    0.0000 7365.4712    0.0000\n"
     ]
    }
   ],
   "source": [
    "for i in range(len(states)):\n",
    "    state_i = states[i][0]\n",
    "    if i == 0:\n",
    "        print(' '*10, end='')\n",
    "        for l in states.flatten():\n",
    "            print(f\"{l:>10}\", end='') \n",
    "        print('')\n",
    "    for j in range(len(states)):\n",
    "        state_j = states[j][0]\n",
    "        if j == 0:\n",
    "            print(f'{state_i:>10}', end='')\n",
    "        rate = k[i, j]\n",
    "        print(f\"{rate:10.4f}\", end='')\n",
    "    print()"
   ]
  },
  {
   "cell_type": "code",
   "execution_count": 28,
   "id": "1b2ef058-bff6-4be5-9980-ff715baa1d95",
   "metadata": {},
   "outputs": [
    {
     "name": "stdout",
     "output_type": "stream",
     "text": [
      "                 ifh       if0       ifn       ofn       of0       ofh\n",
      "       ifh      0.00   9410.57      0.00      0.00      0.00   7322.65\n",
      "       if0    270.07      0.00   2288.94      0.00      0.00      0.00\n",
      "       ifn      0.00    604.30      0.00   4293.30      0.00      0.00\n",
      "       ofn      0.00      0.00   7077.41      0.00    105.57      0.00\n",
      "       of0      0.00      0.00      0.00    201.94      0.00     16.11\n",
      "       ofh   4435.16      0.00      0.00      0.00    311.34      0.00\n"
     ]
    }
   ],
   "source": [
    "for i in range(len(states)):\n",
    "    state_i = states[i][0]\n",
    "    if i == 0:\n",
    "        print(' '*10, end='')\n",
    "        for l in states.flatten():\n",
    "            print(f\"{l:>10}\", end='') \n",
    "        print('')\n",
    "    for j in range(len(states)):\n",
    "        state_j = states[j][0]\n",
    "        if j == 0:\n",
    "            print(f'{state_i:>10}', end='')\n",
    "        rate = std[i, j]\n",
    "        print(f\"{rate:10.2f}\", end='')\n",
    "    print()"
   ]
  },
  {
   "cell_type": "markdown",
   "id": "b79c1862-b2c5-4cb2-b534-d16ed67fce97",
   "metadata": {},
   "source": [
    "## Example solve"
   ]
  },
  {
   "cell_type": "code",
   "execution_count": 9,
   "id": "16d6cc09-5634-4c2a-a6ad-2c21b6aa2dd3",
   "metadata": {},
   "outputs": [
    {
     "data": {
      "image/png": "[encoded data removed]",
      "text/plain": [
       "<Figure size 432x288 with 3 Axes>"
      ]
     },
     "metadata": {},
     "output_type": "display_data"
    }
   ],
   "source": [
    "def make_plot(ax, kji, vji, kij, vij, scale, target_dg, ylabel=True):\n",
    "    dG_original = -np.log(kij / kji)\n",
    "    new_dG = target_dg\n",
    "\n",
    "    b_weight = np.exp(-new_dG)\n",
    "    s_ijji = vij/vji\n",
    "    s_jiij = vji/vij\n",
    "\n",
    "    kjip = kji / (1 + s_jiij * b_weight**2) + kij / (s_ijji / b_weight + b_weight)\n",
    "    kijp = kjip * b_weight\n",
    "\n",
    "    kjis = np.linspace(0, 100)\n",
    "    kijs = kjis * np.exp(-dG_original)\n",
    "    kijsprime = kjis * np.exp(-new_dG)\n",
    "\n",
    "    perp = kij - s_ijji * (kjis - kji) / b_weight\n",
    "    shift = np.sqrt(vji**2 * scale**2 / (vji + vij * b_weight**-2))\n",
    "    tangent_left = (kjis - kji + shift)*b_weight + kij\n",
    "    tangent_right = (kjis - kji - shift)*b_weight + kij\n",
    "\n",
    "    y1 = kij - s_ijji / b_weight * np.sqrt((vji**2 * scale**2) / \\\n",
    "                                           (vji + vij / b_weight**2))\n",
    "    y2 = kij + s_ijji / b_weight * np.sqrt((vji**2 * scale**2) / \\\n",
    "                                           (vji + vij / b_weight**2))\n",
    "\n",
    "    x1 = kji + np.sqrt((vji**2 * scale**2)/ \\\n",
    "                       (vji + vij / b_weight**2))\n",
    "    x2 = kji - np.sqrt((vji**2 * scale**2)/ \\\n",
    "                       (vji + vij / b_weight**2))\n",
    "\n",
    "    b1 = y1 - b_weight * x1\n",
    "    b2 = y2 - b_weight * x2\n",
    "\n",
    "    t1 = kjis * b_weight + b1\n",
    "    t2 = kjis * b_weight + b2\n",
    "\n",
    "    ellipse_out = Ellipse((kji, kij), \n",
    "                          2*np.sqrt(vji*scale**2), \n",
    "                          2*np.sqrt(vij*scale**2), \n",
    "                          color='black', \n",
    "                          fill=False,\n",
    "                          ls='--')\n",
    "        \n",
    "    ax.add_patch(ellipse_out)\n",
    "    \n",
    "    #_kjis_perp = kjis[(np.abs(kjis - kjip) < np.abs(kjip - kji)) & \\\n",
    "    #                  (np.abs(kjis - kji) < np.abs(kjip - kji))]\n",
    "    #perp = kij - s_ijji * (_kjis_perp - kji) / b_weight\n",
    "    \n",
    "    ax.plot(kjis, perp, '--', color='red')\n",
    "    #ax.plot(_kjis_perp, perp, '--', color='red')\n",
    "    ax.plot(kjis, t1, '--', color='black')\n",
    "    ax.plot(kjis, t2, '--', color='black')\n",
    "    ax.plot(kjis, kijsprime, color='black')\n",
    "    ax.plot([kjip], [kijp], '*', color='red', markersize=15)\n",
    "\n",
    "    ax.plot([kji], [kij], '^', markersize=10, color='black')\n",
    "\n",
    "    ax.set_xlabel('$k_{ji}$', fontsize=18)\n",
    "    ax.set_ylabel('$k_{ij}$' if ylabel else '', fontsize=18)\n",
    "\n",
    "    ax.set_xlim([0, 100])\n",
    "    ax.set_ylim([0, 100])\n",
    "\n",
    "    ax.set_aspect('equal')\n",
    "    ax.axes.xaxis.set_ticks([])\n",
    "    ax.axes.yaxis.set_ticks([])\n",
    "    \n",
    "fig, (ax1, ax2, ax3) = plt.subplots(nrows=1, ncols=3)\n",
    "\n",
    "param1 = (70, 20, 40, 5, 6, -1)\n",
    "param2 = (70, 8, 40, 8, 6, -1)\n",
    "param3 = (70, 5, 40, 20, 6, -1)\n",
    "\n",
    "make_plot(ax1, *param1)\n",
    "make_plot(ax2, *param2, ylabel=False)\n",
    "make_plot(ax3, *param3, ylabel=False)\n",
    "\n",
    "plt.tight_layout()\n",
    "plt.savefig('img/panel.pdf')"
   ]
  },
  {
   "cell_type": "code",
   "execution_count": 10,
   "id": "591fe648-d256-4fe9-8705-d45c21102f68",
   "metadata": {},
   "outputs": [
    {
     "name": "stdout",
     "output_type": "stream",
     "text": [
      "41.010072554861736 15.08676257388284\n",
      "49.52456961311908 18.21907099353044\n",
      "57.91378269735129 21.30529001482594\n",
      "92.78039784394191 34.132000910493446\n"
     ]
    },
    {
     "data": {
      "image/png": "[encoded data removed]",
      "text/plain": [
       "<Figure size 432x288 with 4 Axes>"
      ]
     },
     "metadata": {},
     "output_type": "display_data"
    }
   ],
   "source": [
    "def make_plot(ax, kji, vji, kij, vij, scale, target_dg, ylabel=True):\n",
    "    dG_original = -np.log(kij / kji)\n",
    "    new_dG = target_dg\n",
    "\n",
    "    b_weight = np.exp(-new_dG)\n",
    "    s_ijji = vij/vji\n",
    "    s_jiij = vji/vij\n",
    "\n",
    "    kjip = kji / (1 + s_jiij * b_weight**2) + kij / (s_ijji / b_weight + b_weight)\n",
    "    kijp = kjip * b_weight\n",
    "\n",
    "    kjis = np.linspace(0, 100)\n",
    "    kijs = kjis * np.exp(-dG_original)\n",
    "    kijsprime = kjis * np.exp(-new_dG)\n",
    "    print(kijp, kjip)\n",
    "\n",
    "    perp = kij - s_ijji * (kjis - kji) / b_weight\n",
    "    shift = np.sqrt(vji**2 * scale**2 / (vji + vij * b_weight**-2))\n",
    "    tangent_left = (kjis - kji + shift)*b_weight + kij\n",
    "    tangent_right = (kjis - kji - shift)*b_weight + kij\n",
    "\n",
    "    y1 = kij - s_ijji / b_weight * np.sqrt((vji**2 * scale**2) / \\\n",
    "                                           (vji + vij / b_weight**2))\n",
    "    y2 = kij + s_ijji / b_weight * np.sqrt((vji**2 * scale**2) / \\\n",
    "                                           (vji + vij / b_weight**2))\n",
    "    \n",
    "    x1 = kji + np.sqrt((vji**2 * scale**2)/ \\\n",
    "                       (vji + vij / b_weight**2))\n",
    "    x2 = kji - np.sqrt((vji**2 * scale**2)/ \\\n",
    "                       (vji + vij / b_weight**2))\n",
    "\n",
    "    b1 = y1 - b_weight * x1\n",
    "    b2 = y2 - b_weight * x2\n",
    "\n",
    "    t1 = kjis * b_weight + b1\n",
    "    t2 = kjis * b_weight + b2\n",
    "\n",
    "    ellipse_out = Ellipse((kji, kij), \n",
    "                          2*np.sqrt(vji*scale**2), \n",
    "                          2*np.sqrt(vij*scale**2), \n",
    "                          color='black', \n",
    "                          fill=False,\n",
    "                          ls='--')\n",
    "        \n",
    "    ax.add_patch(ellipse_out)\n",
    "    \n",
    "    #_kjis_perp = kjis[(np.abs(kjis - kjip) < np.abs(kjip - kji)) & \\\n",
    "    #                  (np.abs(kjis - kji) < np.abs(kjip - kji))]\n",
    "    #perp = kij - s_ijji * (_kjis_perp - kji) / b_weight\n",
    "    \n",
    "    ax.plot(kjis, perp, '--', color='red')\n",
    "    \n",
    "    t1_proj = t1[np.argmin((kjis - kji)**2)]\n",
    "    t2_proj = t2[np.argmin((kjis - kji)**2)]\n",
    "    \n",
    "    bounds = [kjip, kji]\n",
    "    bounds.sort()\n",
    "    \n",
    "    x1_in_between = x1 > bounds[0] and x1 < bounds[1] \n",
    "    x2_in_between = x2 > bounds[0] and x2 < bounds[1]\n",
    "    \n",
    "    alpha = 0.2\n",
    "    \n",
    "    ax.plot(kjis, t1, '--', color='black', alpha=(1 if x1_in_between else alpha))\n",
    "    ax.plot(kjis, t2, '--', color='black', alpha=(1 if x2_in_between else alpha))\n",
    "    ax.plot(kjis, kijsprime, color='black')\n",
    "    ax.plot([kjip], [kijp], '*', color='red', markersize=15)\n",
    "\n",
    "    ax.plot([kji], [kij], '^', markersize=8, color='black')\n",
    "\n",
    "    ax.set_xlabel('$k_{ji}$', fontsize=18)\n",
    "    ax.set_ylabel('$k_{ij}$' if ylabel else '', fontsize=18)\n",
    "\n",
    "    ax.set_xlim([0, 100])\n",
    "    ax.set_ylim([0, 100])\n",
    "\n",
    "    ax.set_aspect('equal')\n",
    "    ax.axes.xaxis.set_ticks([])\n",
    "    ax.axes.yaxis.set_ticks([])\n",
    "    \n",
    "    ax.spines['top'].set_visible(False)\n",
    "    ax.spines['right'].set_visible(False)\n",
    "    \n",
    "    ax.plot((100), (0), ls=\"\", marker=\">\", ms=10, color=\"k\",\n",
    "            clip_on=False)\n",
    "    ax.plot((0), (100), ls=\"\", marker=\"^\", ms=10, color=\"k\",\n",
    "            clip_on=False)\n",
    "    \n",
    "fig, (ax1, ax2, ax3, ax4) = plt.subplots(nrows=1, ncols=4)\n",
    "\n",
    "param0 = (70, 20, 40, 1, 6, -1)\n",
    "param1 = (70, 20, 40, 10, 6, -1)\n",
    "param2 = (70, 8, 40, 8, 6, -1)\n",
    "param3 = (70, 5, 40, 20, 6, -1)\n",
    "\n",
    "make_plot(ax1, *param0)\n",
    "make_plot(ax2, *param1, ylabel=False)\n",
    "make_plot(ax3, *param2, ylabel=False)\n",
    "make_plot(ax4, *param3, ylabel=False)\n",
    "\n",
    "\n",
    "plt.tight_layout()\n",
    "plt.savefig('img/panel_extreme.pdf')"
   ]
  },
  {
   "cell_type": "code",
   "execution_count": 11,
   "id": "e20a1feb-2f61-4835-b80a-15a30b1e1790",
   "metadata": {},
   "outputs": [
    {
     "name": "stdout",
     "output_type": "stream",
     "text": [
      "41.010072554861736 15.08676257388284\n",
      "49.52456961311908 18.21907099353044\n",
      "57.91378269735129 21.30529001482594\n",
      "92.78039784394191 34.132000910493446\n"
     ]
    },
    {
     "data": {
      "image/png": "[encoded data removed]",
      "text/plain": [
       "<Figure size 432x288 with 4 Axes>"
      ]
     },
     "metadata": {},
     "output_type": "display_data"
    }
   ],
   "source": [
    "def make_plot(ax, kji, vji, kij, vij, scale, target_dg, ylabel=True):\n",
    "    dG_original = -np.log(kij / kji)\n",
    "    new_dG = target_dg\n",
    "\n",
    "    b_weight = np.exp(-new_dG)\n",
    "    s_ijji = vij/vji\n",
    "    s_jiij = vji/vij\n",
    "\n",
    "    kjip = kji / (1 + s_jiij * b_weight**2) + kij / (s_ijji / b_weight + b_weight)\n",
    "    kijp = kjip * b_weight\n",
    "\n",
    "    kjis = np.linspace(0, 100)\n",
    "    kijs = kjis * np.exp(-dG_original)\n",
    "    kijsprime = kjis * np.exp(-new_dG)\n",
    "    print(kijp, kjip)\n",
    "\n",
    "    perp = kij - s_ijji * (kjis - kji) / b_weight\n",
    "    shift = np.sqrt(vji**2 * scale**2 / (vji + vij * b_weight**-2))\n",
    "    tangent_left = (kjis - kji + shift)*b_weight + kij\n",
    "    tangent_right = (kjis - kji - shift)*b_weight + kij\n",
    "\n",
    "    y1 = kij - s_ijji / b_weight * np.sqrt((vji**2 * scale**2) / \\\n",
    "                                           (vji + vij / b_weight**2))\n",
    "    y2 = kij + s_ijji / b_weight * np.sqrt((vji**2 * scale**2) / \\\n",
    "                                           (vji + vij / b_weight**2))\n",
    "    \n",
    "    x1 = kji + np.sqrt((vji**2 * scale**2)/ \\\n",
    "                       (vji + vij / b_weight**2))\n",
    "    x2 = kji - np.sqrt((vji**2 * scale**2)/ \\\n",
    "                       (vji + vij / b_weight**2))\n",
    "\n",
    "    b1 = y1 - b_weight * x1\n",
    "    b2 = y2 - b_weight * x2\n",
    "\n",
    "    t1 = kjis * b_weight + b1\n",
    "    t2 = kjis * b_weight + b2\n",
    "\n",
    "    ellipse_out = Ellipse((kji, kij), \n",
    "                          2*np.sqrt(vji*scale**2), \n",
    "                          2*np.sqrt(vij*scale**2), \n",
    "                          color='black', \n",
    "                          fill=False,\n",
    "                          ls='--')\n",
    "        \n",
    "    ax.add_patch(ellipse_out)\n",
    "    \n",
    "    #_kjis_perp = kjis[(np.abs(kjis - kjip) < np.abs(kjip - kji)) & \\\n",
    "    #                  (np.abs(kjis - kji) < np.abs(kjip - kji))]\n",
    "    #perp = kij - s_ijji * (_kjis_perp - kji) / b_weight\n",
    "    \n",
    "    ax.plot(kjis, perp, '--', color='red')\n",
    "    \n",
    "    t1_proj = t1[np.argmin((kjis - kji)**2)]\n",
    "    t2_proj = t2[np.argmin((kjis - kji)**2)]\n",
    "    \n",
    "    bounds = [kjip, kji]\n",
    "    bounds.sort()\n",
    "    \n",
    "    x1_in_between = x1 > bounds[0] and x1 < bounds[1] \n",
    "    x2_in_between = x2 > bounds[0] and x2 < bounds[1]\n",
    "    \n",
    "    alpha = 0.2\n",
    "    \n",
    "    ax.plot(kjis, t1, '--', color='black', alpha=(1 if x1_in_between else alpha))\n",
    "    ax.plot(kjis, t2, '--', color='black', alpha=(1 if x2_in_between else alpha))\n",
    "    ax.plot(kjis, kijsprime, color='black')\n",
    "    ax.plot([kjip], [kijp], '*', color='red', markersize=15)\n",
    "\n",
    "    ax.plot([kji], [kij], '^', markersize=8, color='black')\n",
    "\n",
    "    ax.set_xlabel('$k_{ji}$', fontsize=18)\n",
    "    ax.set_ylabel('$k_{ij}$' if ylabel else '', fontsize=18)\n",
    "\n",
    "    ax.set_xlim([0, 100])\n",
    "    ax.set_ylim([0, 100])\n",
    "\n",
    "    ax.set_aspect('equal')\n",
    "    ax.axes.xaxis.set_ticks([])\n",
    "    ax.axes.yaxis.set_ticks([])\n",
    "    \n",
    "    ax.spines['top'].set_visible(False)\n",
    "    ax.spines['right'].set_visible(False)\n",
    "    \n",
    "    ax.plot((100), (0), ls=\"\", marker=\">\", ms=10, color=\"k\",\n",
    "            clip_on=False)\n",
    "    ax.plot((0), (100), ls=\"\", marker=\"^\", ms=10, color=\"k\",\n",
    "            clip_on=False)\n",
    "    \n",
    "fig, (ax1, ax2, ax3, ax4) = plt.subplots(nrows=1, ncols=4)\n",
    "\n",
    "param0 = (70, 20, 40, 1, 6, -1)\n",
    "param1 = (70, 20, 40, 10, 6, -1)\n",
    "param2 = (70, 8, 40, 8, 6, -1)\n",
    "param3 = (70, 5, 40, 20, 6, -1)\n",
    "\n",
    "make_plot(ax1, *param0)\n",
    "make_plot(ax2, *param1, ylabel=False)\n",
    "make_plot(ax3, *param2, ylabel=False)\n",
    "make_plot(ax4, *param3, ylabel=False)\n",
    "\n",
    "\n",
    "plt.tight_layout()\n",
    "plt.savefig('img/panel_extreme.pdf')"
   ]
  },
  {
   "cell_type": "code",
   "execution_count": null,
   "id": "16243a77-5cf1-4eeb-94b5-da5b9b53f302",
   "metadata": {},
   "outputs": [],
   "source": []
  }
 ],
 "metadata": {
  "kernelspec": {
   "display_name": "Python 3 (ipykernel)",
   "language": "python",
   "name": "python3"
  },
  "language_info": {
   "codemirror_mode": {
    "name": "ipython",
    "version": 3
   },
   "file_extension": ".py",
   "mimetype": "text/x-python",
   "name": "python",
   "nbconvert_exporter": "python",
   "pygments_lexer": "ipython3",
   "version": "3.8.10"
  }
 },
 "nbformat": 4,
 "nbformat_minor": 5
}
